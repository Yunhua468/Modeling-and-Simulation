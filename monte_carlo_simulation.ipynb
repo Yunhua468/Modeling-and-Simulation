{
 "cells": [
  {
   "cell_type": "markdown",
   "metadata": {},
   "source": [
    "# monte carlo simulation (Random walks, monte carlo)"
   ]
  },
  {
   "cell_type": "markdown",
   "metadata": {},
   "source": [
    "You start with x dollars (see below) in your possession and will bet $1 each time. If you win you gain a dollar and if you lose you lose a $1. The probability of winning is y (see below). You play until you exhaust all the money or until you double your initial funds  \n",
    " \n",
    "\n",
    "So for the first set of values ($10 and 40% probability of winning), if the random number that comes up is less than .40, you win a dollar and you have $11, if it is more than .40 you lose a dollar so you have $9 now. Repeat until you either win or lose."
   ]
  },
  {
   "cell_type": "code",
   "execution_count": 1,
   "metadata": {},
   "outputs": [],
   "source": [
    "import numpy as np"
   ]
  },
  {
   "cell_type": "code",
   "execution_count": 2,
   "metadata": {},
   "outputs": [],
   "source": [
    "def monte_carlo_bet(possession, prob_win):\n",
    "    win_times = 0\n",
    "    bet_num = 0\n",
    "    current_money = possession\n",
    "    threshold = prob_win\n",
    "    while(current_money > 0 and current_money != 2*possession):\n",
    "        bet_num = bet_num+1\n",
    "        win_prob = np.random.random()\n",
    "        if(win_prob<threshold):\n",
    "            current_money = current_money+1\n",
    "            win_times = win_times+1\n",
    "        else:\n",
    "            current_money = current_money-1\n",
    "    return win_times, bet_num"
   ]
  },
  {
   "cell_type": "code",
   "execution_count": 3,
   "metadata": {},
   "outputs": [],
   "source": [
    "start_money = [10, 100, 1000]\n",
    "prob_wins = [0.40, 18/37, 0.50]\n",
    "\n",
    "file = open(\"MC_result.txt\", \"w\")\n",
    "for start_d in start_money:\n",
    "    for prob in prob_wins:\n",
    "        win_list = []\n",
    "        bet_list = []\n",
    "        for i in range(50):\n",
    "            win, bet = monte_carlo_bet(start_d, prob)\n",
    "            win_list.append(win)\n",
    "            bet_list.append(bet)\n",
    "        \n",
    "        file.write(\"start possession:\"+str(start_d)+\", \"+\"win probability:\"+str(prob))\n",
    "        file.write(\"\\n\")\n",
    "        file.write(\"average win times:\"+str(sum(win_list)/50))\n",
    "        file.write(\"\\n\")\n",
    "        file.write(\"average bet times:\"+str(sum(bet_list)/50))\n",
    "        file.write(\"\\n\")\n",
    "        \n",
    "file.close()       "
   ]
  },
  {
   "cell_type": "code",
   "execution_count": null,
   "metadata": {},
   "outputs": [],
   "source": []
  }
 ],
 "metadata": {
  "kernelspec": {
   "display_name": "Python 3",
   "language": "python",
   "name": "python3"
  },
  "language_info": {
   "codemirror_mode": {
    "name": "ipython",
    "version": 3
   },
   "file_extension": ".py",
   "mimetype": "text/x-python",
   "name": "python",
   "nbconvert_exporter": "python",
   "pygments_lexer": "ipython3",
   "version": "3.7.3"
  }
 },
 "nbformat": 4,
 "nbformat_minor": 2
}
